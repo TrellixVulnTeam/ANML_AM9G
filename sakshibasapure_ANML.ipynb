{
  "nbformat": 4,
  "nbformat_minor": 0,
  "metadata": {
    "colab": {
      "name": "sakshibasapure/ANML",
      "provenance": [],
      "authorship_tag": "ABX9TyMfq/otIbzUuDI6wf+3SIPL",
      "include_colab_link": true
    },
    "kernelspec": {
      "name": "python3",
      "display_name": "Python 3"
    }
  },
  "cells": [
    {
      "cell_type": "markdown",
      "metadata": {
        "id": "view-in-github",
        "colab_type": "text"
      },
      "source": [
        "<a href=\"https://colab.research.google.com/github/sakshibasapure/ANML/blob/main/sakshibasapure_ANML.ipynb\" target=\"_parent\"><img src=\"https://colab.research.google.com/assets/colab-badge.svg\" alt=\"Open In Colab\"/></a>"
      ]
    },
    {
      "cell_type": "code",
      "metadata": {
        "colab": {
          "base_uri": "https://localhost:8080/"
        },
        "id": "ZXkWkLnTgnw5",
        "outputId": "c11f71b0-b5f3-4a2c-a5fa-5ca66bd622e3"
      },
      "source": [
        "!git clone https://github.com/sakshibasapure/ANML.git"
      ],
      "execution_count": null,
      "outputs": [
        {
          "output_type": "stream",
          "text": [
            "Cloning into 'ANML'...\n",
            "remote: Enumerating objects: 43, done.\u001b[K\n",
            "remote: Counting objects: 100% (43/43), done.\u001b[K\n",
            "remote: Compressing objects: 100% (31/31), done.\u001b[K\n",
            "remote: Total 43 (delta 15), reused 37 (delta 9), pack-reused 0\u001b[K\n",
            "Unpacking objects: 100% (43/43), done.\n"
          ],
          "name": "stdout"
        }
      ]
    },
    {
      "cell_type": "code",
      "metadata": {
        "colab": {
          "base_uri": "https://localhost:8080/"
        },
        "id": "EVpHuVFbjXlO",
        "outputId": "79dda6b2-75ed-4e1a-92c1-8071ee25fb4f"
      },
      "source": [
        "cd ANML"
      ],
      "execution_count": null,
      "outputs": [
        {
          "output_type": "stream",
          "text": [
            "/content/ANML\n"
          ],
          "name": "stdout"
        }
      ]
    },
    {
      "cell_type": "code",
      "metadata": {
        "colab": {
          "base_uri": "https://localhost:8080/"
        },
        "id": "zKNZdOuNjeAR",
        "outputId": "fb7d83e1-24ab-4bac-d2f1-7129837734ba"
      },
      "source": [
        "!pip install higher"
      ],
      "execution_count": null,
      "outputs": [
        {
          "output_type": "stream",
          "text": [
            "Collecting higher\n",
            "  Downloading https://files.pythonhosted.org/packages/63/94/bb9b7326cb11fcbb025f7895594655b74b1d6efbb290694b911ca9bddaa8/higher-0.2.1-py3-none-any.whl\n",
            "Requirement already satisfied: torch in /usr/local/lib/python3.6/dist-packages (from higher) (1.7.0+cu101)\n",
            "Requirement already satisfied: typing-extensions in /usr/local/lib/python3.6/dist-packages (from torch->higher) (3.7.4.3)\n",
            "Requirement already satisfied: numpy in /usr/local/lib/python3.6/dist-packages (from torch->higher) (1.19.5)\n",
            "Requirement already satisfied: dataclasses in /usr/local/lib/python3.6/dist-packages (from torch->higher) (0.8)\n",
            "Requirement already satisfied: future in /usr/local/lib/python3.6/dist-packages (from torch->higher) (0.16.0)\n",
            "Installing collected packages: higher\n",
            "Successfully installed higher-0.2.1\n"
          ],
          "name": "stdout"
        }
      ]
    },
    {
      "cell_type": "code",
      "metadata": {
        "colab": {
          "base_uri": "https://localhost:8080/"
        },
        "id": "ewMlFIlEjI-J",
        "outputId": "df2ad5b8-877e-45ef-ad8c-8c390a6fa782"
      },
      "source": [
        "!python train_omni.py --epochs 5"
      ],
      "execution_count": null,
      "outputs": [
        {
          "output_type": "stream",
          "text": [
            "Downloading https://www.cs.toronto.edu/~kriz/cifar-10-python.tar.gz to ../data/cifar/cifar-10-batches-py/cifar-10-python.tar.gz\n",
            "170500096it [00:03, 46224755.64it/s]                   \n",
            "Extracting ../data/cifar/cifar-10-batches-py/cifar-10-python.tar.gz to ../data/cifar/cifar-10-batches-py\n",
            "Files already downloaded and verified\n",
            "Traceback (most recent call last):\n",
            "  File \"train_omni.py\", line 65, in <module>\n",
            "    device=device,\n",
            "  File \"/content/ANML/anml.py\", line 31, in train\n",
            "    cifar_sampler = CifarSampler(root=\"../data/cifar\")\n",
            "  File \"/content/ANML/CIFARdataset/CifarSampler.py\", line 47, in __init__\n",
            "    self.tasks_train = np.arange(len(self.cifar_train._character_images))\n",
            "AttributeError: 'CIFAR10' object has no attribute '_character_images'\n"
          ],
          "name": "stdout"
        }
      ]
    }
  ]
}